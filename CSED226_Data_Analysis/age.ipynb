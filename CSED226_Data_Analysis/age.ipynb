{
 "cells": [
  {
   "cell_type": "code",
   "execution_count": 7,
   "metadata": {},
   "outputs": [],
   "source": [
    "import numpy as np\n",
    "import pandas as pd\n",
    "from sklearn.model_selection import train_test_split\n",
    "from sklearn.preprocessing import RobustScaler\n",
    "from sklearn.feature_selection import SelectKBest, f_classif\n",
    "from sklearn.neural_network import MLPRegressor\n",
    "from sklearn.metrics import mean_squared_error"
   ]
  },
  {
   "cell_type": "code",
   "execution_count": 8,
   "metadata": {},
   "outputs": [],
   "source": [
    "train = pd.read_csv('age_train.csv')\n",
    "test = pd.read_csv('age_test.csv')"
   ]
  },
  {
   "cell_type": "code",
   "execution_count": 9,
   "metadata": {},
   "outputs": [],
   "source": [
    "#data preprocessing\n",
    "train['gender'] = train['gender'].map({'M':0, 'F':1, 'I':2})\n",
    "test['gender'] = test['gender'].map({'M':0, 'F':1, 'I':2})"
   ]
  },
  {
   "cell_type": "code",
   "execution_count": 10,
   "metadata": {},
   "outputs": [
    {
     "name": "stderr",
     "output_type": "stream",
     "text": [
      "c:\\Users\\kkomy\\anaconda3\\Lib\\site-packages\\sklearn\\utils\\validation.py:1184: DataConversionWarning: A column-vector y was passed when a 1d array was expected. Please change the shape of y to (n_samples, ), for example using ravel().\n",
      "  y = column_or_1d(y, warn=True)\n",
      "c:\\Users\\kkomy\\anaconda3\\Lib\\site-packages\\sklearn\\neural_network\\_multilayer_perceptron.py:1625: DataConversionWarning: A column-vector y was passed when a 1d array was expected. Please change the shape of y to (n_samples, ), for example using ravel().\n",
      "  y = column_or_1d(y, warn=True)\n"
     ]
    },
    {
     "name": "stdout",
     "output_type": "stream",
     "text": [
      "2.204373473262699\n"
     ]
    },
    {
     "name": "stderr",
     "output_type": "stream",
     "text": [
      "c:\\Users\\kkomy\\anaconda3\\Lib\\site-packages\\sklearn\\neural_network\\_multilayer_perceptron.py:546: ConvergenceWarning: lbfgs failed to converge (status=1):\n",
      "STOP: TOTAL NO. of ITERATIONS REACHED LIMIT.\n",
      "\n",
      "Increase the number of iterations (max_iter) or scale the data as shown in:\n",
      "    https://scikit-learn.org/stable/modules/preprocessing.html\n",
      "  self.n_iter_ = _check_optimize_result(\"lbfgs\", opt_res, self.max_iter)\n"
     ]
    }
   ],
   "source": [
    "data = ['gender','length', 'diameter','height', 'weight1','weight2', 'weight3', 'weight4']\n",
    "target = ['age']\n",
    "\n",
    "train_data, test_data, train_target, test_target = train_test_split(train[data],train[target])\n",
    "scaling = RobustScaler()\n",
    "train_data = scaling.fit_transform(train_data)\n",
    "test_data = scaling.transform(test_data)\n",
    "selecting = SelectKBest(score_func=f_classif, k='all')\n",
    "train_data = selecting.fit_transform(train_data, train_target)\n",
    "test_data = selecting.transform(test_data)\n",
    "\n",
    "rgs = MLPRegressor(solver = 'lbfgs')\n",
    "rgs.fit(train_data, train_target)\n",
    "\n",
    "prediction = rgs.predict(test_data)\n",
    "rmse = np.sqrt(mean_squared_error(test_target, prediction))\n",
    "print(rmse)"
   ]
  },
  {
   "cell_type": "code",
   "execution_count": 11,
   "metadata": {},
   "outputs": [
    {
     "name": "stderr",
     "output_type": "stream",
     "text": [
      "c:\\Users\\kkomy\\anaconda3\\Lib\\site-packages\\sklearn\\utils\\validation.py:1184: DataConversionWarning: A column-vector y was passed when a 1d array was expected. Please change the shape of y to (n_samples, ), for example using ravel().\n",
      "  y = column_or_1d(y, warn=True)\n",
      "c:\\Users\\kkomy\\anaconda3\\Lib\\site-packages\\sklearn\\neural_network\\_multilayer_perceptron.py:1625: DataConversionWarning: A column-vector y was passed when a 1d array was expected. Please change the shape of y to (n_samples, ), for example using ravel().\n",
      "  y = column_or_1d(y, warn=True)\n",
      "c:\\Users\\kkomy\\anaconda3\\Lib\\site-packages\\sklearn\\neural_network\\_multilayer_perceptron.py:546: ConvergenceWarning: lbfgs failed to converge (status=1):\n",
      "STOP: TOTAL NO. of ITERATIONS REACHED LIMIT.\n",
      "\n",
      "Increase the number of iterations (max_iter) or scale the data as shown in:\n",
      "    https://scikit-learn.org/stable/modules/preprocessing.html\n",
      "  self.n_iter_ = _check_optimize_result(\"lbfgs\", opt_res, self.max_iter)\n"
     ]
    }
   ],
   "source": [
    "data = ['gender','length', 'diameter','height', 'weight1','weight2', 'weight3', 'weight4']\n",
    "target = ['age']\n",
    "\n",
    "train_data = train[data]\n",
    "train_target = train[target]\n",
    "test_data = test\n",
    "\n",
    "scaling = RobustScaler()\n",
    "train_data = scaling.fit_transform(train_data)\n",
    "test_data = scaling.transform(test_data)\n",
    "selecting = SelectKBest(score_func=f_classif, k='all')\n",
    "train_data = selecting.fit_transform(train_data, train_target)\n",
    "test_data = selecting.transform(test_data)\n",
    "\n",
    "model = MLPRegressor(solver = 'lbfgs')\n",
    "model.fit(train_data, train_target)\n",
    "\n",
    "prediction = model.predict(test_data)\n",
    "\n",
    "result = pd.DataFrame()\n",
    "result['ID'] = np.arange(1000)\n",
    "result['age'] = prediction\n",
    "result.to_csv('regression.csv', index=False)"
   ]
  }
 ],
 "metadata": {
  "kernelspec": {
   "display_name": "base",
   "language": "python",
   "name": "python3"
  },
  "language_info": {
   "codemirror_mode": {
    "name": "ipython",
    "version": 3
   },
   "file_extension": ".py",
   "mimetype": "text/x-python",
   "name": "python",
   "nbconvert_exporter": "python",
   "pygments_lexer": "ipython3",
   "version": "3.11.5"
  }
 },
 "nbformat": 4,
 "nbformat_minor": 2
}
