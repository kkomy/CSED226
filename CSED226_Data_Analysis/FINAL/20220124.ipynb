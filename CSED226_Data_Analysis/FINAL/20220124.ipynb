{
 "cells": [
  {
   "cell_type": "code",
   "execution_count": 93,
   "metadata": {},
   "outputs": [],
   "source": [
    "import numpy as np\n",
    "import pandas as pd\n",
    "from sklearn.model_selection import train_test_split\n",
    "from sklearn.preprocessing import RobustScaler\n",
    "from sklearn.feature_selection import SelectKBest, f_classif\n",
    "from sklearn.neural_network import MLPClassifier\n",
    "from sklearn.ensemble import RandomForestClassifier\n",
    "from sklearn.discriminant_analysis import LinearDiscriminantAnalysis\n",
    "from sklearn.svm import SVC\n",
    "from sklearn.preprocessing import StandardScaler\n"
   ]
  },
  {
   "cell_type": "code",
   "execution_count": 94,
   "metadata": {},
   "outputs": [],
   "source": [
    "train = pd.read_csv('train.csv')\n",
    "test = pd.read_csv('test.csv')"
   ]
  },
  {
   "cell_type": "code",
   "execution_count": 95,
   "metadata": {},
   "outputs": [],
   "source": [
    "train_target = train['Class']\n",
    "train_data = train.drop(['Class'], axis = 1)\n",
    "test_data = test.drop(['Id'],axis = 1)"
   ]
  },
  {
   "cell_type": "code",
   "execution_count": 98,
   "metadata": {},
   "outputs": [],
   "source": [
    "scaling = RobustScaler()\n",
    "train_data = scaling.fit_transform(train_data)\n",
    "test_data = scaling.transform(test_data)\n",
    "selecting = SelectKBest(score_func=f_classif, k='all')\n",
    "train_data = selecting.fit_transform(train_data, train_target)\n",
    "test_data = selecting.transform(test_data)\n",
    "\n",
    "\n",
    "clf = SVC()\n",
    "clf.fit(train_data, train_target)\n",
    "prediction = clf.predict(test_data)\n",
    "\n",
    "result = pd.DataFrame()\n",
    "result['Id'] = np.arange(270)\n",
    "result['Class'] = prediction\n",
    "result.to_csv('final.csv', index = False)"
   ]
  }
 ],
 "metadata": {
  "kernelspec": {
   "display_name": "base",
   "language": "python",
   "name": "python3"
  },
  "language_info": {
   "codemirror_mode": {
    "name": "ipython",
    "version": 3
   },
   "file_extension": ".py",
   "mimetype": "text/x-python",
   "name": "python",
   "nbconvert_exporter": "python",
   "pygments_lexer": "ipython3",
   "version": "3.11.5"
  }
 },
 "nbformat": 4,
 "nbformat_minor": 2
}
