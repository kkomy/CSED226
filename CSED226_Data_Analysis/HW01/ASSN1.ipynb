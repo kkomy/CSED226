{
 "cells": [
  {
   "cell_type": "markdown",
   "metadata": {},
   "source": [
    "# HW01\n",
    "In this assignment, you will practice basics of python, numpy and pandas.\n",
    "\n",
    "Please follow the instructions below:\n",
    "\n",
    "1. Write down your code between <br>\n",
    "&nbsp;&nbsp;&nbsp;&nbsp; **\\# BEGIN_YOUR_CODE**<br>\n",
    "&nbsp;&nbsp;&nbsp;&nbsp; and<br>\n",
    "&nbsp;&nbsp;&nbsp;&nbsp; **\\# END_YOUR_CODE**.\n",
    "\n",
    "2. Do not use **external libraries**. (i.e., Do not use any `import` in your code) <br>\n",
    "   Your code will fail to execute and get **0 score** if you use them.\n",
    "\n",
    "3. Rename this file to **[student_id].ipynb** (e.g. 20221234.ipynb) and submit it to PLMS. <br>\n",
    "   There is **20% penalty** if you do not follow the submission format.\n",
    "\n",
    "4. Submission more than one day late is not accepted.\n",
    "   There is **50% penalty** for late submission up to one day."
   ]
  },
  {
   "cell_type": "code",
   "execution_count": 12,
   "metadata": {},
   "outputs": [],
   "source": [
    "import numpy as np\n",
    "import pandas as pd"
   ]
  },
  {
   "cell_type": "markdown",
   "metadata": {},
   "source": [
    "## Problem 1. Fibonacci [2 points]\n",
    "Given `n`, implement function `fib(n)` that calculates `n`-th Fibonacci number. <br>\n",
    "Assume `n` is a positive integer and `fib(0)`=0, `fib(1)`=1."
   ]
  },
  {
   "cell_type": "code",
   "execution_count": 4,
   "metadata": {},
   "outputs": [],
   "source": [
    "def fib(n):\n",
    "    # BEGIN_YOUR_CODE\n",
    "    if n==0:\n",
    "        return 0\n",
    "    if n==1:\n",
    "        return 1\n",
    "    else:\n",
    "        return fib(n-1)+fib(n-2)\n",
    "    raise Exception(\"Not implemented yet\")\n",
    "    # END_YOUR_CODE"
   ]
  },
  {
   "cell_type": "markdown",
   "metadata": {},
   "source": [
    "## Problem 2. Maximum Word Count [2 points]\n",
    "Given `filename`, implement function `max_word_count(filename)` that finds the most frequent words. <br>\n",
    "You should open a file whose name is `filename` and return two things as a tuple: <br>\n",
    "The first one is a set of words that occur the maximum number of times and the second one is their counts."
   ]
  },
  {
   "cell_type": "code",
   "execution_count": 5,
   "metadata": {},
   "outputs": [
    {
     "data": {
      "text/plain": [
       "({'the'}, 32470)"
      ]
     },
     "execution_count": 5,
     "metadata": {},
     "output_type": "execute_result"
    }
   ],
   "source": [
    "def max_word_count(filename):\n",
    "    # BEGIN_YOUR_CODE\n",
    "    file = open(filename, 'r')\n",
    "    book = file.read()\n",
    "    words = book.split()\n",
    "    pair = {}\n",
    "    for word in words:\n",
    "        if word in pair:\n",
    "            pair[word]+= 1\n",
    "        else:\n",
    "            pair[word] = 1\n",
    "    max_word = set()\n",
    "    max_count = 0\n",
    "    for word in pair:\n",
    "        if max_count<pair[word]:\n",
    "            max_count = pair[word]\n",
    "    for word in pair:\n",
    "        if pair[word] == max_count:\n",
    "            max_word.add(word)\n",
    "    return max_word, max_count\n",
    "    # END_YOUR_CODE"
   ]
  },
  {
   "cell_type": "markdown",
   "metadata": {},
   "source": [
    "## Problem 3. Average Price [3 points]\n",
    "Given `cars`, implement function `average_prices(cars)` that returns a dictionary which contains each `brand` as a key and the average price of cars of that `brand` as a value."
   ]
  },
  {
   "cell_type": "code",
   "execution_count": null,
   "metadata": {},
   "outputs": [],
   "source": [
    "class car:  \n",
    "    def __init__(self, args):\n",
    "        brand, model, price =  args\n",
    "        self.brand = brand\n",
    "        self.model = model\n",
    "        self.price = price\n",
    "\n",
    "def average_prices(cars):\n",
    "    # BEGIN_YOUR_CODE\n",
    "    car_num = {}\n",
    "    result = {}\n",
    "    for temp in cars:\n",
    "        if temp.brand not in result.keys():\n",
    "            result[temp.brand] = temp.price\n",
    "            car_num[temp.brand] = 1\n",
    "        else:\n",
    "            result[temp.brand] += temp.price\n",
    "            car_num[temp.brand] += 1\n",
    "    \n",
    "    for tmp in result.keys():\n",
    "        result[tmp] /= car_num[tmp]\n",
    "    \n",
    "    return result\n",
    "    # END_YOUR_CODE"
   ]
  },
  {
   "cell_type": "markdown",
   "metadata": {},
   "source": [
    "## Problem 4. Manhattan Distance [2 points]\n",
    "Given two numpy arrays `arr1` and `arr2`, implement function `manhattan_distance` that calculates Manhattan distance between `arr1` and `arr2`. <br>\n",
    "You need to utilize numpy library for this problem."
   ]
  },
  {
   "cell_type": "code",
   "execution_count": 7,
   "metadata": {},
   "outputs": [],
   "source": [
    "def manhattan_distance(arr1, arr2):\n",
    "    # BEGIN_YOUR_CODE\n",
    "    md = np.sum(abs(arr1-arr2))\n",
    "    return md\n",
    "    # END_YOUR_CODE"
   ]
  },
  {
   "cell_type": "markdown",
   "metadata": {},
   "source": [
    "## Problem 5. CSV Modification [5 points]\n",
    "Your goal is to modify given csv file with below constraints. <br>\n",
    "The inputs are paths of the original data and modified data. <br>\n",
    "You need to utilize pandas library for this problem.\n",
    "\n",
    "### Constraints\n",
    "- The requirements must be followed in the same order as given below.<br>\n",
    "  (If not, you might attain different results although you followed everything correctly.)\n",
    "1. The modified csv file should not contain columns `Cabin` and `Embarked`.\n",
    "2. The modified csv file should not contain missing values. <br>\n",
    "   All rows with a missing value needs to be dropped.\n",
    "3. The modified csv file should only have `survived` = 1.\n",
    "4. The column `Pclass` should be one hot encoding.\n",
    "5. Value of `Age` should be `young` if it is smaller than 65 and `old` otherwise."
   ]
  },
  {
   "cell_type": "code",
   "execution_count": 8,
   "metadata": {
    "scrolled": false
   },
   "outputs": [],
   "source": [
    "def titanic(original_file, modified_file):\n",
    "    # BEGIN_YOUR_CODE\n",
    "    df = pd.read_csv(original_file)\n",
    "    \n",
    "    df = df.drop(['Cabin','Embarked'],axis=1)\n",
    "    df = df.dropna(axis=0)\n",
    "    df = df[(df['Survived'] == 1)]\n",
    "    df = pd.get_dummies(df,columns = ['Pclass'])\n",
    "    \n",
    "    df['Age'] = df['Age'].apply(lambda x: 'young' if x<65 else 'old')\n",
    "    # END_YOUR_CODE\n",
    "    df.to_csv(modified_file, index=False)"
   ]
  },
  {
   "cell_type": "markdown",
   "metadata": {},
   "source": [
    "## Problem 6. Employee and Department [6 points]\n",
    "For this problem, three csv files, `departments.csv`, `employees.csv` and `employees2.csv`, are given. <br>\n",
    "There are 2 sub problems. <br>\n",
    "You need to utilize pandas library for this problem."
   ]
  },
  {
   "cell_type": "markdown",
   "metadata": {},
   "source": [
    "### 6.a Employee Table [3 points]\n",
    "Make employee table that has `name`, `salary` and `department_name` as columns. <br>\n",
    "Note that each department has its own `department_id` and `department_name`."
   ]
  },
  {
   "cell_type": "code",
   "execution_count": 18,
   "metadata": {},
   "outputs": [
    {
     "data": {
      "text/html": [
       "<div>\n",
       "<style scoped>\n",
       "    .dataframe tbody tr th:only-of-type {\n",
       "        vertical-align: middle;\n",
       "    }\n",
       "\n",
       "    .dataframe tbody tr th {\n",
       "        vertical-align: top;\n",
       "    }\n",
       "\n",
       "    .dataframe thead th {\n",
       "        text-align: right;\n",
       "    }\n",
       "</style>\n",
       "<table border=\"1\" class=\"dataframe\">\n",
       "  <thead>\n",
       "    <tr style=\"text-align: right;\">\n",
       "      <th></th>\n",
       "      <th>name</th>\n",
       "      <th>department_name</th>\n",
       "      <th>salary</th>\n",
       "    </tr>\n",
       "  </thead>\n",
       "  <tbody>\n",
       "    <tr>\n",
       "      <th>0</th>\n",
       "      <td>John</td>\n",
       "      <td>sales</td>\n",
       "      <td>5000</td>\n",
       "    </tr>\n",
       "    <tr>\n",
       "      <th>1</th>\n",
       "      <td>Allen</td>\n",
       "      <td>accounting</td>\n",
       "      <td>6000</td>\n",
       "    </tr>\n",
       "    <tr>\n",
       "      <th>2</th>\n",
       "      <td>Martin</td>\n",
       "      <td>research</td>\n",
       "      <td>3500</td>\n",
       "    </tr>\n",
       "    <tr>\n",
       "      <th>3</th>\n",
       "      <td>Mary</td>\n",
       "      <td>sales</td>\n",
       "      <td>5500</td>\n",
       "    </tr>\n",
       "    <tr>\n",
       "      <th>4</th>\n",
       "      <td>Smith</td>\n",
       "      <td>research</td>\n",
       "      <td>4500</td>\n",
       "    </tr>\n",
       "    <tr>\n",
       "      <th>5</th>\n",
       "      <td>Scott</td>\n",
       "      <td>accounting</td>\n",
       "      <td>7100</td>\n",
       "    </tr>\n",
       "    <tr>\n",
       "      <th>6</th>\n",
       "      <td>Tom</td>\n",
       "      <td>sales</td>\n",
       "      <td>4500</td>\n",
       "    </tr>\n",
       "    <tr>\n",
       "      <th>7</th>\n",
       "      <td>Admas</td>\n",
       "      <td>research</td>\n",
       "      <td>5000</td>\n",
       "    </tr>\n",
       "    <tr>\n",
       "      <th>8</th>\n",
       "      <td>Hunter</td>\n",
       "      <td>research</td>\n",
       "      <td>3000</td>\n",
       "    </tr>\n",
       "    <tr>\n",
       "      <th>9</th>\n",
       "      <td>King</td>\n",
       "      <td>accounting</td>\n",
       "      <td>5100</td>\n",
       "    </tr>\n",
       "  </tbody>\n",
       "</table>\n",
       "</div>"
      ],
      "text/plain": [
       "     name department_name  salary\n",
       "0    John           sales    5000\n",
       "1   Allen      accounting    6000\n",
       "2  Martin        research    3500\n",
       "3    Mary           sales    5500\n",
       "4   Smith        research    4500\n",
       "5   Scott      accounting    7100\n",
       "6     Tom           sales    4500\n",
       "7   Admas        research    5000\n",
       "8  Hunter        research    3000\n",
       "9    King      accounting    5100"
      ]
     },
     "execution_count": 18,
     "metadata": {},
     "output_type": "execute_result"
    }
   ],
   "source": [
    "def emp_table(dep, emp1, emp2):\n",
    "    # BEGIN_YOUR_CODE\n",
    "    df = pd.concat([pd.read_csv(emp1), pd.read_csv(emp2)], ignore_index=True)\n",
    "    df = df.drop(['employee_id'], axis = 1)\n",
    "    \n",
    "    depart = pd.read_csv(dep)\n",
    "    for i in range(0, len(df)):\n",
    "        df.loc[i,'department_id'] = depart.loc[df.loc[i,'department_id']-1]['department_name']\n",
    "    \n",
    "    df.rename(columns = {'department_id': 'department_name'},inplace = True)\n",
    "    # END_YOUR_CODE\n",
    "    return df"
   ]
  },
  {
   "cell_type": "markdown",
   "metadata": {},
   "source": [
    "### 6.b Highest Salary [3 points]\n",
    "Find an employee with the highest salary of each department. <br>\n",
    "The output must be a dictionary which contains `department_name` as a key and an employee's `name` as a value. <br>\n",
    "You can use `emp_table` in 6.a."
   ]
  },
  {
   "cell_type": "code",
   "execution_count": 16,
   "metadata": {},
   "outputs": [
    {
     "data": {
      "text/plain": [
       "{'accounting': 'Scott'}"
      ]
     },
     "execution_count": 16,
     "metadata": {},
     "output_type": "execute_result"
    }
   ],
   "source": [
    "def highest_salary(dep, emp1, emp2):\n",
    "    # BEGIN_YOUR_CODE\n",
    "    result = {}\n",
    "    max_sal = 0\n",
    "    temp = emp_table(dep,emp1,emp2)\n",
    "    for i in range(0,len(emp_table(dep,emp1,emp2))):\n",
    "        if max_sal < temp.loc[i, 'salary']:\n",
    "            max_sal = temp.loc[i, 'salary']\n",
    "            max_emp = temp.loc[i, 'name']\n",
    "            max_dep = temp.loc[i, 'department_name']\n",
    "    \n",
    "    result[max_dep] = max_emp\n",
    "    \n",
    "    return result\n",
    "    # END_YOUR_CODE"
   ]
  }
 ],
 "metadata": {
  "anaconda-cloud": {},
  "kernelspec": {
   "display_name": "Python 3 (ipykernel)",
   "language": "python",
   "name": "python3"
  },
  "language_info": {
   "codemirror_mode": {
    "name": "ipython",
    "version": 3
   },
   "file_extension": ".py",
   "mimetype": "text/x-python",
   "name": "python",
   "nbconvert_exporter": "python",
   "pygments_lexer": "ipython3",
   "version": "3.11.4"
  }
 },
 "nbformat": 4,
 "nbformat_minor": 1
}
