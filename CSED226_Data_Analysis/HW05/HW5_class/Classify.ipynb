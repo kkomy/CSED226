{
 "cells": [
  {
   "cell_type": "code",
   "execution_count": 10,
   "metadata": {},
   "outputs": [],
   "source": [
    "import numpy as np\n",
    "import pandas as pd\n",
    "from sklearn.model_selection import train_test_split\n",
    "from sklearn.preprocessing import RobustScaler\n",
    "from sklearn.feature_selection import SelectKBest, f_classif\n",
    "from sklearn.neural_network import MLPClassifier\n",
    "from sklearn.ensemble import RandomForestClassifier\n",
    "from xgboost import XGBClassifier\n",
    "from sklearn.discriminant_analysis import LinearDiscriminantAnalysis\n",
    "\n",
    "from sklearn.metrics import f1_score\n",
    "\n",
    "from sklearn.experimental import enable_halving_search_cv\n",
    "from sklearn.model_selection import HalvingGridSearchCV\n",
    "from sklearn.model_selection import RandomizedSearchCV\n",
    "\n",
    "from matplotlib import pyplot as plt"
   ]
  },
  {
   "cell_type": "code",
   "execution_count": 11,
   "metadata": {},
   "outputs": [],
   "source": [
    "#data loading\n",
    "train = pd.read_csv('crop_train.csv')\n",
    "test = pd.read_csv('crop_test.csv')"
   ]
  },
  {
   "cell_type": "code",
   "execution_count": 12,
   "metadata": {},
   "outputs": [
    {
     "data": {
      "text/plain": [
       "A        20420.000000\n",
       "P          524.736000\n",
       "L1         183.601165\n",
       "L2         129.576207\n",
       "Ec           0.280937\n",
       "C        20684.000000\n",
       "EqD        161.243764\n",
       "Ex           0.555315\n",
       "S            0.919246\n",
       "SF           0.410339\n",
       "Class        0.000000\n",
       "dtype: float64"
      ]
     },
     "execution_count": 12,
     "metadata": {},
     "output_type": "execute_result"
    }
   ],
   "source": [
    "train.min()"
   ]
  },
  {
   "cell_type": "code",
   "execution_count": 13,
   "metadata": {},
   "outputs": [
    {
     "data": {
      "text/plain": [
       "A        251432.000000\n",
       "P          1921.685000\n",
       "L1          738.144502\n",
       "L2          460.198497\n",
       "Ec            0.911423\n",
       "C        257425.000000\n",
       "EqD         565.803115\n",
       "Ex            0.852841\n",
       "S             0.994677\n",
       "SF            0.959287\n",
       "Class         6.000000\n",
       "dtype: float64"
      ]
     },
     "execution_count": 13,
     "metadata": {},
     "output_type": "execute_result"
    }
   ],
   "source": [
    "train.max()"
   ]
  },
  {
   "cell_type": "code",
   "execution_count": 14,
   "metadata": {},
   "outputs": [
    {
     "data": {
      "text/plain": [
       "A        53014.227500\n",
       "P          855.076474\n",
       "L1         320.111363\n",
       "L2         202.161504\n",
       "Ec           0.751244\n",
       "C        53732.333100\n",
       "EqD        252.987575\n",
       "Ex           0.749827\n",
       "S            0.987165\n",
       "SF           0.643262\n",
       "Class        3.372200\n",
       "dtype: float64"
      ]
     },
     "execution_count": 14,
     "metadata": {},
     "output_type": "execute_result"
    }
   ],
   "source": [
    "train.mean()"
   ]
  },
  {
   "cell_type": "code",
   "execution_count": 15,
   "metadata": {},
   "outputs": [
    {
     "data": {
      "text/plain": [
       "A        44642.000000\n",
       "P          794.998000\n",
       "L1         296.736732\n",
       "L2         192.296172\n",
       "Ec           0.764476\n",
       "C        45155.500000\n",
       "EqD        238.411325\n",
       "Ex           0.760135\n",
       "S            0.988271\n",
       "SF           0.642059\n",
       "Class        3.000000\n",
       "dtype: float64"
      ]
     },
     "execution_count": 15,
     "metadata": {},
     "output_type": "execute_result"
    }
   ],
   "source": [
    "train.median()"
   ]
  },
  {
   "cell_type": "code",
   "execution_count": 16,
   "metadata": {},
   "outputs": [
    {
     "data": {
      "text/html": [
       "<div>\n",
       "<style scoped>\n",
       "    .dataframe tbody tr th:only-of-type {\n",
       "        vertical-align: middle;\n",
       "    }\n",
       "\n",
       "    .dataframe tbody tr th {\n",
       "        vertical-align: top;\n",
       "    }\n",
       "\n",
       "    .dataframe thead th {\n",
       "        text-align: right;\n",
       "    }\n",
       "</style>\n",
       "<table border=\"1\" class=\"dataframe\">\n",
       "  <thead>\n",
       "    <tr style=\"text-align: right;\">\n",
       "      <th></th>\n",
       "      <th>A</th>\n",
       "      <th>P</th>\n",
       "      <th>L1</th>\n",
       "      <th>L2</th>\n",
       "      <th>Ec</th>\n",
       "      <th>C</th>\n",
       "      <th>EqD</th>\n",
       "      <th>Ex</th>\n",
       "      <th>S</th>\n",
       "      <th>SF</th>\n",
       "      <th>Class</th>\n",
       "    </tr>\n",
       "  </thead>\n",
       "  <tbody>\n",
       "    <tr>\n",
       "      <th>1</th>\n",
       "      <td>210260.0</td>\n",
       "      <td>1739.133</td>\n",
       "      <td>648.610364</td>\n",
       "      <td>417.898925</td>\n",
       "      <td>0.764774</td>\n",
       "      <td>213691.0</td>\n",
       "      <td>517.408298</td>\n",
       "      <td>0.823341</td>\n",
       "      <td>0.983944</td>\n",
       "      <td>0.636354</td>\n",
       "      <td>5</td>\n",
       "    </tr>\n",
       "    <tr>\n",
       "      <th>54</th>\n",
       "      <td>188247.0</td>\n",
       "      <td>1691.965</td>\n",
       "      <td>664.188713</td>\n",
       "      <td>368.013244</td>\n",
       "      <td>0.832464</td>\n",
       "      <td>194252.0</td>\n",
       "      <td>489.574841</td>\n",
       "      <td>0.727547</td>\n",
       "      <td>0.969087</td>\n",
       "      <td>0.543319</td>\n",
       "      <td>5</td>\n",
       "    </tr>\n",
       "    <tr>\n",
       "      <th>124</th>\n",
       "      <td>176492.0</td>\n",
       "      <td>1593.206</td>\n",
       "      <td>587.518064</td>\n",
       "      <td>383.511004</td>\n",
       "      <td>0.757561</td>\n",
       "      <td>178253.0</td>\n",
       "      <td>474.042818</td>\n",
       "      <td>0.752711</td>\n",
       "      <td>0.990121</td>\n",
       "      <td>0.651018</td>\n",
       "      <td>5</td>\n",
       "    </tr>\n",
       "    <tr>\n",
       "      <th>131</th>\n",
       "      <td>237270.0</td>\n",
       "      <td>1921.685</td>\n",
       "      <td>738.144502</td>\n",
       "      <td>412.921647</td>\n",
       "      <td>0.828895</td>\n",
       "      <td>240671.0</td>\n",
       "      <td>549.637650</td>\n",
       "      <td>0.784115</td>\n",
       "      <td>0.985869</td>\n",
       "      <td>0.554460</td>\n",
       "      <td>5</td>\n",
       "    </tr>\n",
       "    <tr>\n",
       "      <th>164</th>\n",
       "      <td>182835.0</td>\n",
       "      <td>1612.474</td>\n",
       "      <td>572.784569</td>\n",
       "      <td>408.710761</td>\n",
       "      <td>0.700604</td>\n",
       "      <td>184739.0</td>\n",
       "      <td>482.486012</td>\n",
       "      <td>0.813620</td>\n",
       "      <td>0.989694</td>\n",
       "      <td>0.709556</td>\n",
       "      <td>5</td>\n",
       "    </tr>\n",
       "    <tr>\n",
       "      <th>...</th>\n",
       "      <td>...</td>\n",
       "      <td>...</td>\n",
       "      <td>...</td>\n",
       "      <td>...</td>\n",
       "      <td>...</td>\n",
       "      <td>...</td>\n",
       "      <td>...</td>\n",
       "      <td>...</td>\n",
       "      <td>...</td>\n",
       "      <td>...</td>\n",
       "      <td>...</td>\n",
       "    </tr>\n",
       "    <tr>\n",
       "      <th>9816</th>\n",
       "      <td>169559.0</td>\n",
       "      <td>1575.747</td>\n",
       "      <td>591.413620</td>\n",
       "      <td>368.130091</td>\n",
       "      <td>0.782653</td>\n",
       "      <td>172319.0</td>\n",
       "      <td>464.638810</td>\n",
       "      <td>0.736656</td>\n",
       "      <td>0.983983</td>\n",
       "      <td>0.617232</td>\n",
       "      <td>5</td>\n",
       "    </tr>\n",
       "    <tr>\n",
       "      <th>9833</th>\n",
       "      <td>161534.0</td>\n",
       "      <td>1532.140</td>\n",
       "      <td>578.556590</td>\n",
       "      <td>357.226905</td>\n",
       "      <td>0.786614</td>\n",
       "      <td>163293.0</td>\n",
       "      <td>453.510173</td>\n",
       "      <td>0.792175</td>\n",
       "      <td>0.989228</td>\n",
       "      <td>0.614444</td>\n",
       "      <td>5</td>\n",
       "    </tr>\n",
       "    <tr>\n",
       "      <th>9873</th>\n",
       "      <td>164201.0</td>\n",
       "      <td>1560.469</td>\n",
       "      <td>570.612444</td>\n",
       "      <td>368.330017</td>\n",
       "      <td>0.763761</td>\n",
       "      <td>166229.0</td>\n",
       "      <td>457.238676</td>\n",
       "      <td>0.806869</td>\n",
       "      <td>0.987800</td>\n",
       "      <td>0.642101</td>\n",
       "      <td>5</td>\n",
       "    </tr>\n",
       "    <tr>\n",
       "      <th>9922</th>\n",
       "      <td>195332.0</td>\n",
       "      <td>1691.955</td>\n",
       "      <td>624.890619</td>\n",
       "      <td>402.317920</td>\n",
       "      <td>0.765176</td>\n",
       "      <td>198864.0</td>\n",
       "      <td>498.702744</td>\n",
       "      <td>0.758807</td>\n",
       "      <td>0.982239</td>\n",
       "      <td>0.636906</td>\n",
       "      <td>5</td>\n",
       "    </tr>\n",
       "    <tr>\n",
       "      <th>9961</th>\n",
       "      <td>187645.0</td>\n",
       "      <td>1652.744</td>\n",
       "      <td>630.590543</td>\n",
       "      <td>381.280443</td>\n",
       "      <td>0.796499</td>\n",
       "      <td>189828.0</td>\n",
       "      <td>488.791402</td>\n",
       "      <td>0.796642</td>\n",
       "      <td>0.988500</td>\n",
       "      <td>0.600831</td>\n",
       "      <td>5</td>\n",
       "    </tr>\n",
       "  </tbody>\n",
       "</table>\n",
       "<p>384 rows × 11 columns</p>\n",
       "</div>"
      ],
      "text/plain": [
       "             A         P          L1          L2        Ec         C  \\\n",
       "1     210260.0  1739.133  648.610364  417.898925  0.764774  213691.0   \n",
       "54    188247.0  1691.965  664.188713  368.013244  0.832464  194252.0   \n",
       "124   176492.0  1593.206  587.518064  383.511004  0.757561  178253.0   \n",
       "131   237270.0  1921.685  738.144502  412.921647  0.828895  240671.0   \n",
       "164   182835.0  1612.474  572.784569  408.710761  0.700604  184739.0   \n",
       "...        ...       ...         ...         ...       ...       ...   \n",
       "9816  169559.0  1575.747  591.413620  368.130091  0.782653  172319.0   \n",
       "9833  161534.0  1532.140  578.556590  357.226905  0.786614  163293.0   \n",
       "9873  164201.0  1560.469  570.612444  368.330017  0.763761  166229.0   \n",
       "9922  195332.0  1691.955  624.890619  402.317920  0.765176  198864.0   \n",
       "9961  187645.0  1652.744  630.590543  381.280443  0.796499  189828.0   \n",
       "\n",
       "             EqD        Ex         S        SF  Class  \n",
       "1     517.408298  0.823341  0.983944  0.636354      5  \n",
       "54    489.574841  0.727547  0.969087  0.543319      5  \n",
       "124   474.042818  0.752711  0.990121  0.651018      5  \n",
       "131   549.637650  0.784115  0.985869  0.554460      5  \n",
       "164   482.486012  0.813620  0.989694  0.709556      5  \n",
       "...          ...       ...       ...       ...    ...  \n",
       "9816  464.638810  0.736656  0.983983  0.617232      5  \n",
       "9833  453.510173  0.792175  0.989228  0.614444      5  \n",
       "9873  457.238676  0.806869  0.987800  0.642101      5  \n",
       "9922  498.702744  0.758807  0.982239  0.636906      5  \n",
       "9961  488.791402  0.796642  0.988500  0.600831      5  \n",
       "\n",
       "[384 rows x 11 columns]"
      ]
     },
     "execution_count": 16,
     "metadata": {},
     "output_type": "execute_result"
    }
   ],
   "source": [
    "train[train['Class'] == 5]"
   ]
  },
  {
   "cell_type": "code",
   "execution_count": null,
   "metadata": {},
   "outputs": [],
   "source": []
  },
  {
   "cell_type": "code",
   "execution_count": 23,
   "metadata": {},
   "outputs": [
    {
     "name": "stderr",
     "output_type": "stream",
     "text": [
      "c:\\Users\\kkomy\\anaconda3\\Lib\\site-packages\\sklearn\\utils\\validation.py:1184: DataConversionWarning: A column-vector y was passed when a 1d array was expected. Please change the shape of y to (n_samples, ), for example using ravel().\n",
      "  y = column_or_1d(y, warn=True)\n",
      "c:\\Users\\kkomy\\anaconda3\\Lib\\site-packages\\sklearn\\utils\\validation.py:1184: DataConversionWarning: A column-vector y was passed when a 1d array was expected. Please change the shape of y to (n_samples, ), for example using ravel().\n",
      "  y = column_or_1d(y, warn=True)\n",
      "c:\\Users\\kkomy\\anaconda3\\Lib\\site-packages\\sklearn\\neural_network\\_multilayer_perceptron.py:1102: DataConversionWarning: A column-vector y was passed when a 1d array was expected. Please change the shape of y to (n_samples, ), for example using ravel().\n",
      "  y = column_or_1d(y, warn=True)\n",
      "c:\\Users\\kkomy\\anaconda3\\Lib\\site-packages\\sklearn\\neural_network\\_multilayer_perceptron.py:546: ConvergenceWarning: lbfgs failed to converge (status=1):\n",
      "STOP: TOTAL NO. of ITERATIONS REACHED LIMIT.\n",
      "\n",
      "Increase the number of iterations (max_iter) or scale the data as shown in:\n",
      "    https://scikit-learn.org/stable/modules/preprocessing.html\n",
      "  self.n_iter_ = _check_optimize_result(\"lbfgs\", opt_res, self.max_iter)\n"
     ]
    },
    {
     "data": {
      "text/plain": [
       "0.9124745216092424"
      ]
     },
     "execution_count": 23,
     "metadata": {},
     "output_type": "execute_result"
    }
   ],
   "source": [
    "data = ['A','P','L1','L2','Ec','C','EqD','Ex','S','SF']\n",
    "target = ['Class']\n",
    "train_data, test_data, train_target, test_target = train_test_split(train[data],train[target])\n",
    "scaling = RobustScaler()\n",
    "train_data = scaling.fit_transform(train_data)\n",
    "test_data = scaling.transform(test_data)\n",
    "selecting = SelectKBest(score_func=f_classif, k='all')\n",
    "train_data = selecting.fit_transform(train_data, train_target)\n",
    "test_data = selecting.transform(test_data)\n",
    "\n",
    "\n",
    "lda = LinearDiscriminantAnalysis(n_components=2)\n",
    "train_data_lda = lda.fit_transform(train_data, train_target)\n",
    "test_data_lda = lda.transform(test_data)\n",
    "\n",
    "\n",
    "clf = MLPClassifier(alpha = 0.01, solver = 'lbfgs')\n",
    "clf.fit(train_data, train_target)\n",
    "prediction = clf.predict(test_data)\n",
    "\n",
    "f1_score(test_target, prediction, average='weighted')"
   ]
  },
  {
   "cell_type": "code",
   "execution_count": 18,
   "metadata": {},
   "outputs": [],
   "source": [
    "train_target = train['Class']\n",
    "train_data = train.drop(['Class'], axis = 1)\n",
    "test_data = test"
   ]
  },
  {
   "cell_type": "code",
   "execution_count": 24,
   "metadata": {},
   "outputs": [
    {
     "name": "stderr",
     "output_type": "stream",
     "text": [
      "c:\\Users\\kkomy\\anaconda3\\Lib\\site-packages\\sklearn\\neural_network\\_multilayer_perceptron.py:546: ConvergenceWarning: lbfgs failed to converge (status=1):\n",
      "STOP: TOTAL NO. of ITERATIONS REACHED LIMIT.\n",
      "\n",
      "Increase the number of iterations (max_iter) or scale the data as shown in:\n",
      "    https://scikit-learn.org/stable/modules/preprocessing.html\n",
      "  self.n_iter_ = _check_optimize_result(\"lbfgs\", opt_res, self.max_iter)\n"
     ]
    }
   ],
   "source": [
    "train_target = train['Class']\n",
    "train_data = train.drop(['Class'], axis = 1)\n",
    "test_data = test\n",
    "scaling = RobustScaler()\n",
    "train_data = scaling.fit_transform(train_data)\n",
    "test_data = scaling.transform(test_data)\n",
    "selecting = SelectKBest(score_func=f_classif, k='all')\n",
    "train_data = selecting.fit_transform(train_data, train_target)\n",
    "test_data = selecting.transform(test_data)\n",
    "\n",
    "lda = LinearDiscriminantAnalysis(n_components=2)\n",
    "train_data_lda = lda.fit_transform(train_data, train_target)\n",
    "test_data_lda = lda.transform(test_data)\n",
    "\n",
    "clf = MLPClassifier(alpha = 0.01, solver = 'lbfgs')\n",
    "clf.fit(train_data, train_target)\n",
    "prediction = clf.predict(test_data)\n",
    "\n",
    "result = pd.DataFrame()\n",
    "result['ID'] = np.arange(3000)\n",
    "result['Class'] = prediction\n",
    "result.to_csv('class_Q.csv', index = False)"
   ]
  },
  {
   "cell_type": "code",
   "execution_count": null,
   "metadata": {},
   "outputs": [],
   "source": []
  }
 ],
 "metadata": {
  "kernelspec": {
   "display_name": "Python 3",
   "language": "python",
   "name": "python3"
  },
  "language_info": {
   "codemirror_mode": {
    "name": "ipython",
    "version": 3
   },
   "file_extension": ".py",
   "mimetype": "text/x-python",
   "name": "python",
   "nbconvert_exporter": "python",
   "pygments_lexer": "ipython3",
   "version": "3.11.5"
  }
 },
 "nbformat": 4,
 "nbformat_minor": 2
}
